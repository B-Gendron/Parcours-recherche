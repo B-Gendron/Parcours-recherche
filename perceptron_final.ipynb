{
  "cells": [
    {
      "cell_type": "markdown",
      "metadata": {
        "id": "bzMzDyp8aW84"
      },
      "source": [
        "\n",
        "# Première implémentation d'un perceptron\n"
      ]
    },
    {
      "cell_type": "markdown",
      "metadata": {
        "collapsed": true,
        "id": "g2us4W_GaW85"
      },
      "source": [
        "Test sur un dataset de ScikitLearn.  \n",
        "Sources utilisées :\n",
        "- Documentation de ScikitLearn : https://scikit-learn.org/stable/getting_started.html\n",
        "- Article : https://towardsdatascience.com/perceptron-algorithm-in-python-f3ac89d2e537\n",
        "- Cours : https://www.math.univ-toulouse.fr/~besse/Wikistat/pdf/st-m-app-rn.pdf\n",
        "- Codes : https://maviccprp.github.io/a-perceptron-in-just-a-few-lines-of-python-code/"
      ]
    },
    {
      "cell_type": "markdown",
      "metadata": {
        "id": "6NsY9RcjaW86"
      },
      "source": [
        "__Pour commencer__  \n",
        "Une première implémentation d'un perceptron pour résoudre des tâches de classification binaire avec une descente de gradient stochastique. Ce code a été directement repris depuis les sources. Le but de l'exemple qui va suivre est de comprendre comment on arrive à une telle construction du perceptron, et comment on peut l'utiliser pour résoudre un problème simple. "
      ]
    },
    {
      "cell_type": "code",
      "execution_count": null,
      "metadata": {
        "colab": {
          "base_uri": "https://localhost:8080/"
        },
        "id": "QgL29ASFaW87",
        "outputId": "10249874-4410-40c8-bce8-88db0deaa03b"
      },
      "outputs": [
        {
          "output_type": "stream",
          "name": "stdout",
          "text": [
            "[ 2.  3. 13.]\n"
          ]
        }
      ],
      "source": [
        "import numpy as np\n",
        "\n",
        "X = np.array([[-2,4,-1],[4,1,-1],[1, 6, -1],[2, 4, -1],[6, 2, -1]])\n",
        "\n",
        "y = np.array([-1,-1,1,1,1])\n",
        "\n",
        "def perceptron_sgd(X, Y):\n",
        "    w = np.zeros(len(X[0]))\n",
        "    eta = 1\n",
        "    epochs = 20\n",
        "\n",
        "    for t in range(epochs):\n",
        "        for i, x in enumerate(X):\n",
        "            if (np.dot(X[i], w)*Y[i]) <= 0:\n",
        "                w = w + eta*X[i]*Y[i]\n",
        "\n",
        "    return w\n",
        "\n",
        "w = perceptron_sgd(X,y)\n",
        "print(w)"
      ]
    },
    {
      "cell_type": "markdown",
      "metadata": {
        "id": "arOezo5GaW88"
      },
      "source": [
        "__Éléments de contexte__  \n",
        "On va s'intéresser à un problème de classification binaire avec des blobs générés par ScikitLearn. Pour résoudre le problème, on utilise un perceptron avec une seule couche. Commençons par générer les données : "
      ]
    },
    {
      "cell_type": "code",
      "execution_count": null,
      "metadata": {
        "colab": {
          "base_uri": "https://localhost:8080/",
          "height": 530
        },
        "id": "g4poun9WaW89",
        "outputId": "d2a30cdb-3419-4de2-c012-2d2e8e792cb5"
      },
      "outputs": [
        {
          "output_type": "execute_result",
          "data": {
            "text/plain": [
              "Text(0.5, 1.0, 'Classification aléatoire de données avec deux classes')"
            ]
          },
          "metadata": {},
          "execution_count": 58
        },
        {
          "output_type": "display_data",
          "data": {
            "image/png": "[encoded data removed]",
            "text/plain": [
              "<Figure size 720x576 with 1 Axes>"
            ]
          },
          "metadata": {
            "needs_background": "light"
          }
        }
      ],
      "source": [
        "import matplotlib.pyplot as plt\n",
        "from sklearn import datasets\n",
        "\n",
        "# on génère un dataset de 200 points avec 2 blobs\n",
        "X, y = datasets.make_blobs(n_samples=200,centers=2,n_features=2,random_state=4)\n",
        "\n",
        "# visualisation du jeu de données\n",
        "fig = plt.figure(figsize=(10,8))\n",
        "plt.plot(X[:, 0][y == 0], X[:, 1][y == 0], 'ro')\n",
        "plt.plot(X[:, 0][y == 1], X[:, 1][y == 1], 'bo')\n",
        "plt.xlabel(\"Caract. 1\")\n",
        "plt.ylabel(\"Caract. 2\")\n",
        "plt.title('Classification aléatoire de données avec deux classes')"
      ]
    },
    {
      "cell_type": "markdown",
      "metadata": {
        "id": "xAEKH7OvaW8-"
      },
      "source": [
        "__Définition de l'objectif__  \n",
        "La séparation entre les deux classes paraît claire ici. Le but va être de trouver la droite optimale qui sépare ces deux groupes en utilisant un perceptron qui va apprendre un certain nombre de paramètres.    \n",
        "  \n",
        "  \n",
        "__Choix des caractéristiques et des paramètres__  \n",
        "Comme on est dans le cas d'une classification binaire, la distribution de probabilité sur les données est une loi de Bernoulli. Il est donc préférable d'utiliser une sigmoïde pour l'output (que l'on appliquera à une couche linéaire).  \n",
        "Soit $\\theta$ le vecteur des paramètres. Dans l'unique étaat caché du perceptron, on va calculer $\\theta^TX$. On renvoie ensuite :  \n",
        "  \n",
        "\\begin{equation*}\n",
        "h_\\theta(X) = g(\\theta^TX) \\quad \\text{où g est la fonction d'activation qui vaut 1 sur les $z$ positifs et 0 sur les $z$ strictement négatifs}\n",
        "\\end{equation*}  \n",
        "  \n",
        "__Définition de la fonction d'activation__  \n",
        "Le code suivant définit la fonction ${\\tt \\text{step_fct}}$ qui est la fonction $g$ :"
      ]
    },
    {
      "cell_type": "code",
      "execution_count": null,
      "metadata": {
        "id": "Vy0NPxmTaW8-"
      },
      "outputs": [],
      "source": [
        "def step_fct(z):\n",
        "    return 1.0 if (z>=0) else 0.0"
      ]
    },
    {
      "cell_type": "markdown",
      "metadata": {
        "id": "HCz5IWuOaW8_"
      },
      "source": [
        "__Déroulement de l'entraînement__  \n",
        "La procédure décrite ci-dessous permet de faire une prédiction quant à la répartition de chacun des $X_i$ dans leurs classes $y_i$. Il nous faut maintenant pouvoir traiter le cas d'un élément mal classé, et voir comment on modifie les paramètres $\\theta_i$ si on en repère un pendant la phase d'entrainement. La démarche va être très similaire à celle de la descente de gradient. Ainsi, si l'élément $X_i$ est mal classé pour un certain $i$, alors les paramètres $\\theta_j$ seront modifiés tel que :\n",
        "\\begin{equation*}\n",
        "\\forall j, \\enspace \\theta_j = \\theta_j + \\alpha\\left (y^{(i)} - h_\\theta^{(i)} \\right )X_j^{(i)}\n",
        "\\end{equation*}  \n",
        "Où $\\alpha$ est le taux d'apprentissage. Pour l'instant on n'a pas vraiment de raisons de choisir une valeur plutôt qu'une autre pour ce taux. Il est d'usage de le prendre plutôt grand lors des premiers tests puis de le baisser progressivement pour arriver à des résultats plus fins.  \n",
        "  \n",
        "_Remarque_ : pour l'initialisation des paramètres, on choisit de prendre tous les $\\theta_i$ nuls."
      ]
    },
    {
      "cell_type": "code",
      "execution_count": null,
      "metadata": {
        "colab": {
          "base_uri": "https://localhost:8080/"
        },
        "id": "wz3Sgi7AaW8_",
        "outputId": "5473a2e9-3cb0-4bca-c629-6af4b3595870"
      },
      "outputs": [
        {
          "output_type": "execute_result",
          "data": {
            "text/plain": [
              "(array([[-0.0081    ],\n",
              "        [-0.00080357],\n",
              "        [ 0.00823921]]),\n",
              " [31,\n",
              "  24,\n",
              "  15,\n",
              "  13,\n",
              "  13,\n",
              "  13,\n",
              "  13,\n",
              "  13,\n",
              "  11,\n",
              "  11,\n",
              "  11,\n",
              "  11,\n",
              "  11,\n",
              "  11,\n",
              "  11,\n",
              "  11,\n",
              "  11,\n",
              "  11,\n",
              "  9,\n",
              "  11,\n",
              "  11,\n",
              "  12,\n",
              "  13,\n",
              "  9,\n",
              "  11,\n",
              "  11,\n",
              "  10,\n",
              "  11,\n",
              "  9,\n",
              "  11,\n",
              "  11,\n",
              "  11,\n",
              "  10,\n",
              "  11,\n",
              "  9,\n",
              "  11,\n",
              "  10,\n",
              "  11,\n",
              "  9,\n",
              "  11,\n",
              "  11,\n",
              "  11,\n",
              "  10,\n",
              "  11,\n",
              "  11,\n",
              "  11,\n",
              "  10,\n",
              "  11,\n",
              "  11,\n",
              "  11,\n",
              "  10,\n",
              "  11,\n",
              "  11,\n",
              "  11,\n",
              "  10,\n",
              "  11,\n",
              "  9,\n",
              "  11,\n",
              "  11,\n",
              "  10,\n",
              "  11,\n",
              "  11,\n",
              "  10,\n",
              "  11,\n",
              "  11,\n",
              "  10,\n",
              "  11,\n",
              "  11,\n",
              "  10,\n",
              "  11,\n",
              "  11,\n",
              "  11,\n",
              "  10,\n",
              "  11,\n",
              "  11,\n",
              "  10,\n",
              "  11,\n",
              "  11,\n",
              "  11,\n",
              "  10,\n",
              "  9,\n",
              "  10,\n",
              "  7,\n",
              "  11,\n",
              "  10,\n",
              "  11,\n",
              "  11,\n",
              "  10,\n",
              "  11,\n",
              "  11,\n",
              "  10,\n",
              "  9,\n",
              "  10,\n",
              "  11,\n",
              "  11,\n",
              "  10,\n",
              "  11,\n",
              "  11,\n",
              "  10,\n",
              "  9])"
            ]
          },
          "metadata": {},
          "execution_count": 59
        }
      ],
      "source": [
        "import numpy as np\n",
        "\n",
        "def perceptron(X, y, alpha, nb_iter):\n",
        "    m,n = X.shape # m est le nombre d'exemples (200) et n le nombre de caract. pour chaque exemple (2)\n",
        "    theta = np.zeros((n+1,1)) # n+1 car on rajoute un terme de biais.\n",
        "    nbre_mal_classes = [0 for _ in range(nb_iter)] \n",
        "    \n",
        "    # Entrainement\n",
        "    for iteration in range(nb_iter):\n",
        "        compte_mal_classes = 0\n",
        "        \n",
        "        for i, ex_i in enumerate(X):\n",
        "            # ajout d'une colonne à la matrice pour le biais\n",
        "            ex_i = np.insert(ex_i, 0, 1).reshape(-1,1)\n",
        "            \n",
        "            # calcul de la prédiction\n",
        "            y_pred = step_fct(np.dot(theta.T, ex_i))\n",
        "            \n",
        "            # cas d'un élément mal classé\n",
        "            if (np.squeeze(y_pred) - y[i]) != 0:\n",
        "                theta += alpha*(y[i] - y_pred)*ex_i\n",
        "                compte_mal_classes += 1\n",
        "            \n",
        "        nbre_mal_classes[iteration] = compte_mal_classes\n",
        "    \n",
        "    return(theta, nbre_mal_classes)\n",
        "\n",
        "perceptron(X, y, 0.0001, 100)"
      ]
    },
    {
      "cell_type": "markdown",
      "metadata": {
        "id": "W8NlvppGaW9A"
      },
      "source": [
        "## Représentation graphique du résultat"
      ]
    },
    {
      "cell_type": "code",
      "execution_count": null,
      "metadata": {
        "colab": {
          "base_uri": "https://localhost:8080/",
          "height": 513
        },
        "id": "9EygcXPnaW9A",
        "outputId": "e0c78ef6-9cda-4c5e-f099-5b35e925f2dc"
      },
      "outputs": [
        {
          "output_type": "display_data",
          "data": {
            "image/png": "[encoded data removed]",
            "text/plain": [
              "<Figure size 720x576 with 1 Axes>"
            ]
          },
          "metadata": {
            "needs_background": "light"
          }
        }
      ],
      "source": [
        "def trace_separation(X, theta):\n",
        "    # on trace la droite d'equation ax + b =theta0*X0 + theta1*X1 + theta2*X2\n",
        "    x1 = [min(X[:,0]), max(X[:,0])]\n",
        "    a = -theta[1]/theta[2]\n",
        "    b = -theta[0]/theta[2]\n",
        "    x2 = a*x1 + b\n",
        "    \n",
        "    # tracé des points et de la droite\n",
        "    fig = plt.figure(figsize=(10,8))\n",
        "    plt.plot(X[:, 0][y==0], X[:, 1][y==0], \"ro\")\n",
        "    plt.plot(X[:, 0][y==1], X[:, 1][y==1], \"bo\")\n",
        "    plt.xlabel(\"Caract. 1\")\n",
        "    plt.ylabel(\"Caract. 2\")\n",
        "    plt.title(\"Résultat du perceptron\")\n",
        "    plt.plot(x1, x2, 'g')\n",
        "\n",
        "theta, n = perceptron(X, y, 0.05,100)\n",
        "trace_separation(X, theta)"
      ]
    },
    {
      "cell_type": "markdown",
      "source": [
        "__Vérification du bon fonctionnement du perceptron__  \n",
        "On va tout simplement créer de nouveaux points, les afficher sur le graphe et les colorer en fonction du groupe auxquel ils appartiennent par rapport la droite déterminée par le perceptron."
      ],
      "metadata": {
        "id": "v6lhGWaICstD"
      }
    },
    {
      "cell_type": "code",
      "source": [
        "# 10 points test. Les points d'indice pair devraient être représentés en bleu, et en rouge pour l'indice impair\n",
        "  # jeu de test pour random_state = 2\n",
        "#X_test = np.array([[-1,0], [-1,-6], [0,0], [-2,-10], [0,1], [2,-8], [2,-2], [-4,0], [1,-4], [3,-12]])\n",
        "  # jeu de test pour random_state = 4\n",
        "X_test = np.array([[9,4], [9,0], [9,2], [11,-1], [10,3], [10,1], [11,5], [7,-1], [7,2], [10,1.5]])\n",
        "\n",
        "\n",
        "def test_perceptron(x, theta):\n",
        "    liste_classes = []\n",
        "    for point in x:\n",
        "        # ajout d'une colonne à la matrice pour le biais\n",
        "        point = np.insert(point, 0, 1).reshape(-1,1)\n",
        "\n",
        "        # calcul de la classe associée au point\n",
        "        y = step_fct(np.dot(theta.T, point))\n",
        "        liste_classes.append(y)\n",
        "    return liste_classes\n",
        "\n",
        "theta, n = perceptron(X, y, 0.05,100)\n",
        "Y_test = test_perceptron(X_test, theta)\n",
        "# modifications sur Y_test pour pouvoir tracer la figure (array d'entiers)\n",
        "Y_test = [int(Y_test[i]) for i in range(len(Y_test))]\n",
        "Y_test = np.array(Y_test)\n",
        "\n",
        "def trace_points():\n",
        "    fig = plt.figure(figsize=(10,8))\n",
        "    # tracé des points du jeu de données d'entrainement\n",
        "    plt.plot(X[:, 0][y==0], X[:, 1][y==0], \"ro\")\n",
        "    plt.plot(X[:, 0][y==1], X[:, 1][y==1], \"bo\")\n",
        "    plt.xlabel(\"Caract. 1\")\n",
        "    plt.ylabel(\"Caract. 2\")\n",
        "    plt.title(\"Résultat du perceptron avec un jeu de tests\")\n",
        "    # tracé des points du jeu de données de test\n",
        "    plt.plot(X_test[:, 0][Y_test==0], X_test[:, 1][Y_test==0], \"go\")\n",
        "    plt.plot(X_test[:, 0][Y_test==1], X_test[:, 1][Y_test==1], \"go\")\n",
        "    # annotation des données de test pour vérifier qu'elles sont bien placées\n",
        "    i = 0\n",
        "    for point in X_test:\n",
        "      plt.annotate(i, (X_test[i]))\n",
        "      i += 1\n",
        "\n",
        "trace_points()"
      ],
      "metadata": {
        "colab": {
          "base_uri": "https://localhost:8080/",
          "height": 513
        },
        "id": "8ojuR1vhCrIY",
        "outputId": "a5fbfd91-e83a-4694-8ee9-c5dfa1e0e53e"
      },
      "execution_count": null,
      "outputs": [
        {
          "output_type": "display_data",
          "data": {
            "image/png": "[encoded data removed]",
            "text/plain": [
              "<Figure size 720x576 with 1 Axes>"
            ]
          },
          "metadata": {
            "needs_background": "light"
          }
        }
      ]
    },
    {
      "cell_type": "markdown",
      "metadata": {
        "id": "_Npffw9kaW9B"
      },
      "source": [
        "__Remarques + ouverture__  \n",
        "Je n'ai pas l'impression que changer le taux d'apprentissage dans cet exemple change quelque chose, est-ce normal ? De plus, changer le nombre d'itérations ne change en général pas grand chose mais cela est normal car le nombre de points mal placés tombe à 0 après seulement 5 itérations (le modèle est performant !)  \n",
        "\n",
        "Changer le random_state de 1 à 3 : on a des résultats assez intuitifs ! À partir de 4, les deux blobs se superposent et là on ne peut plus résoudre le problème avec une simple droite..."
      ]
    }
  ],
  "metadata": {
    "kernelspec": {
      "display_name": "Python 3 (ipykernel)",
      "language": "python",
      "name": "python3"
    },
    "language_info": {
      "codemirror_mode": {
        "name": "ipython",
        "version": 3
      },
      "file_extension": ".py",
      "mimetype": "text/x-python",
      "name": "python",
      "nbconvert_exporter": "python",
      "pygments_lexer": "ipython3",
      "version": "3.7.0"
    },
    "colab": {
      "name": "perceptron-final.ipynb",
      "provenance": [],
      "collapsed_sections": []
    }
  },
  "nbformat": 4,
  "nbformat_minor": 0
}