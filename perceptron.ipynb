{
 "cells": [
  {
   "cell_type": "markdown",
   "metadata": {},
   "source": [
    "# Première implémentation d'un perceptron"
   ]
  },
  {
   "cell_type": "markdown",
   "metadata": {
    "collapsed": true
   },
   "source": [
    "Test sur un dataset de Scikitlearn. \\\n",
    "Sources utilisées :\n",
    "- Documentation de ScikitLearn : https://scikit-learn.org/stable/getting_started.html\n",
    "- Article : https://towardsdatascience.com/perceptron-algorithm-in-python-f3ac89d2e537\n",
    "- Cours : https://www.math.univ-toulouse.fr/~besse/Wikistat/pdf/st-m-app-rn.pdf\n",
    "- Codes : https://maviccprp.github.io/a-perceptron-in-just-a-few-lines-of-python-code/"
   ]
  },
  {
   "cell_type": "markdown",
   "metadata": {},
   "source": [
    "__Pour commencer__\\\n",
    "Une première implémentation d'un perceptron pour résoudre des tâches de classification binaire avec une descente de gradient stochastique : "
   ]
  },
  {
   "cell_type": "code",
   "execution_count": 8,
   "metadata": {},
   "outputs": [
    {
     "name": "stdout",
     "output_type": "stream",
     "text": [
      "[ 2.  3. 13.]\n"
     ]
    }
   ],
   "source": [
    "import numpy as np\n",
    "\n",
    "X = np.array([[-2,4,-1],[4,1,-1],[1, 6, -1],[2, 4, -1],[6, 2, -1]])\n",
    "\n",
    "y = np.array([-1,-1,1,1,1])\n",
    "\n",
    "def perceptron_sgd(X, Y):\n",
    "    w = np.zeros(len(X[0]))\n",
    "    eta = 1\n",
    "    epochs = 20\n",
    "\n",
    "    for t in range(epochs):\n",
    "        for i, x in enumerate(X):\n",
    "            if (np.dot(X[i], w)*Y[i]) <= 0:\n",
    "                w = w + eta*X[i]*Y[i]\n",
    "\n",
    "    return w\n",
    "\n",
    "w = perceptron_sgd(X,y)\n",
    "print(w)"
   ]
  },
  {
   "cell_type": "markdown",
   "metadata": {},
   "source": [
    "__Éléments de contexte__\\\n",
    "On va s'intéresser à un problème de classification binaire avec des blobs générés par ScikitLearn. Pour résoudre le problème, on utilise un perceptron avec une seule couche. "
   ]
  },
  {
   "cell_type": "code",
   "execution_count": 20,
   "metadata": {},
   "outputs": [
    {
     "data": {
      "text/plain": [
       "Text(0.5, 1.0, 'Classification aléatoire de données avec deux classes')"
      ]
     },
     "execution_count": 20,
     "metadata": {},
     "output_type": "execute_result"
    },
    {
     "data": {
      "image/png": "[encoded data removed]",
      "text/plain": [
       "<Figure size 720x576 with 1 Axes>"
      ]
     },
     "metadata": {
      "needs_background": "light"
     },
     "output_type": "display_data"
    }
   ],
   "source": [
    "import matplotlib.pyplot as plt\n",
    "from sklearn import datasets\n",
    "\n",
    "# on génère un dataset de 200 points avec 2 blobs\n",
    "X, y = datasets.make_blobs(n_samples=200,n_features=2,centers=2,cluster_std=1.05,random_state=2)\n",
    "\n",
    "# visualisation du jeu de données\n",
    "fig = plt.figure(figsize=(10,8))\n",
    "plt.plot(X[:, 0][y == 0], X[:, 1][y == 0], 'ro')\n",
    "plt.plot(X[:, 0][y == 1], X[:, 1][y == 1], 'bo')\n",
    "plt.xlabel(\"Caract. 1\")\n",
    "plt.ylabel(\"Caract. 2\")\n",
    "plt.title('Classification aléatoire de données avec deux classes')"
   ]
  },
  {
   "cell_type": "markdown",
   "metadata": {},
   "source": [
    "__Définition de l'objectif__\\\n",
    "La séparation entre les deux classes paraît claire ici. Le but va être de trouver la droite optimale qui sépare ces deux groupes en utilisant un perceptron qui va apprendre un certain nombre de paramètres.\\\n",
    "\\\n",
    "\\\n",
    "__Choix des caractéristiques et des paramètres__\\\n",
    "Comme on est dans le cas d'une classification binaire, la distribution de probabilité sur les données est une loi de Bernoulli. Il est donc préférable d'utiliser une sigmoïde pour l'output (que l'on appliquera à une couche linéaire).\\\n",
    "Soit $\\theta$ le vecteur des paramètres. Dans l'unique étaat caché du perceptron, on va calculer $\\theta^TX$. On renvoie ensuite :\\\n",
    "\\\n",
    "\\begin{equation*}\n",
    "h_\\theta(X) = g(\\theta^TX) \\quad \\text{où g est la fonction d'activation qui vaut 1 sur les $z$ positifs et 0 sur les $z$ strictement négatifs}\n",
    "\\end{equation*}\\\n",
    "\\\n",
    "__Définition de la fonction d'activation__\\\n",
    "Le code suivant définit la fonction ${\\tt \\text{step_fct}}$ qui est la fonction $g$ :"
   ]
  },
  {
   "cell_type": "code",
   "execution_count": 18,
   "metadata": {},
   "outputs": [],
   "source": [
    "def step_fct(z):\n",
    "    return 1.0 if (z>=0) else 0.0"
   ]
  },
  {
   "cell_type": "markdown",
   "metadata": {},
   "source": [
    "__Déroulement de l'entraînement__\\\n",
    "La procédure décrite ci-dessous permet de faire une prédiction quant à la répartition de chacun des $X_i$ dans leurs classes $y_i$. Il nous faut maintenant pouvoir traiter le cas d'un élément mal classé, et voir comment on modifie les paramètres $\\theta_i$ si on en repère un pendant la phase d'entrainement. La démarche va être très similaire à celle de la descente de gradient. Ainsi, si l'élément $X_i$ est mal classé pour un certain $i$, alors les paramètres $\\theta_j$ seront modifiés tel que :\n",
    "\\begin{equation*}\n",
    "\\forall j, \\enspace \\theta_j = \\theta_j + \\alpha\\left (y^{(i)} - h_\\theta^{(i)} \\right )X_j^{(i)}\n",
    "\\end{equation*}\\\n",
    "Où $\\alpha$ est le taux d'apprentissage. Pour l'instant on n'a pas vraiment de raisons de choisir une valeur plutôt qu'une autre pour ce taux. Il est d'usage de le prendre plutôt grand lors des premiers tests puis de le baisser progressivement pour arriver à des résultats plus fins.\\\n",
    "\\\n",
    "_Remarque_ : pour l'initialisation des paramètres, on choisit de prendre tous les $\\theta_i$ nuls."
   ]
  },
  {
   "cell_type": "code",
   "execution_count": 40,
   "metadata": {},
   "outputs": [
    {
     "data": {
      "text/plain": [
       "(array([[0.0022    ],\n",
       "        [0.00052193],\n",
       "        [0.00055918]]),\n",
       " [22, 4, 8, 4, 0, 0, 0, 0, 0, 0])"
      ]
     },
     "execution_count": 40,
     "metadata": {},
     "output_type": "execute_result"
    }
   ],
   "source": [
    "import numpy as np\n",
    "\n",
    "def perceptron(X, y, alpha, nb_iter):\n",
    "    m,n = X.shape # m est le nombre d'exemples (200) et n le nombre de caract. pour chaque exemple (2)\n",
    "    theta = np.zeros((n+1,1)) # n+1 car on rajoute un terme de biais.\n",
    "    nbre_mal_classes = [0 for _ in range(nb_iter)] \n",
    "    \n",
    "    # Entrainement\n",
    "    for iteration in range(nb_iter):\n",
    "        compte_mal_classes = 0\n",
    "        \n",
    "        for i, ex_i in enumerate(X):\n",
    "            # ajout d'une colonne à la matrice pour le biais\n",
    "            ex_i = np.insert(ex_i, 0, 1).reshape(-1,1)\n",
    "            \n",
    "            # calcul de la prédiction\n",
    "            y_pred = step_fct(np.dot(theta.T, ex_i))\n",
    "            \n",
    "            # cas d'un élément mal classé\n",
    "            if (y_pred - y[i]) != 0:\n",
    "                theta += alpha*(y[i] - y_pred)*ex_i\n",
    "                compte_mal_classes += 1\n",
    "            \n",
    "        nbre_mal_classes[iteration] = compte_mal_classes\n",
    "    \n",
    "    return(theta, nbre_mal_classes)\n",
    "\n",
    "perceptron(X, y, 0.0001, 10)"
   ]
  },
  {
   "cell_type": "markdown",
   "metadata": {},
   "source": [
    "Représentation graphique du résultat"
   ]
  },
  {
   "cell_type": "code",
   "execution_count": 37,
   "metadata": {},
   "outputs": [
    {
     "data": {
      "image/png": "[encoded data removed]",
      "text/plain": [
       "<Figure size 720x576 with 1 Axes>"
      ]
     },
     "metadata": {
      "needs_background": "light"
     },
     "output_type": "display_data"
    }
   ],
   "source": [
    "def plot_decision_boundary(X, theta):\n",
    "    # The Line is y=mx+c\n",
    "    # So, Equate mx+c = theta0.X0 + theta1.X1 + theta2.X2\n",
    "    # Solving we find m and c\n",
    "    x1 = [min(X[:,0]), max(X[:,0])]\n",
    "    m = -theta[1]/theta[2]\n",
    "    c = -theta[0]/theta[2]\n",
    "    x2 = m*x1 + c\n",
    "    \n",
    "    # Plotting\n",
    "    fig = plt.figure(figsize=(10,8))\n",
    "    plt.plot(X[:, 0][y==0], X[:, 1][y==0], \"r^\")\n",
    "    plt.plot(X[:, 0][y==1], X[:, 1][y==1], \"bs\")\n",
    "    plt.xlabel(\"feature 1\")\n",
    "    plt.ylabel(\"feature 2\")\n",
    "    plt.title(\"Perceptron Algorithm\")\n",
    "    plt.plot(x1, x2, 'y-')\n",
    "\n",
    "theta, n = perceptron(X, y, 0.05,100)\n",
    "plot_decision_boundary(X, theta)"
   ]
  },
  {
   "cell_type": "markdown",
   "metadata": {},
   "source": [
    "__Remarques + ouverture__\\\n",
    "Je n'ai pas l'impression que changer le taux d'apprentissage dans cet exemple change quelque chose, est-ce normal ? De plus, changer le nombre d'itérations ne change en général pas grand chose mais cela est normal car le nombre de points mal placés tombe à 0 après seulement 5 itérations (le modèle est performant !)"
   ]
  }
 ],
 "metadata": {
  "kernelspec": {
   "display_name": "Python 3 (ipykernel)",
   "language": "python",
   "name": "python3"
  },
  "language_info": {
   "codemirror_mode": {
    "name": "ipython",
    "version": 3
   },
   "file_extension": ".py",
   "mimetype": "text/x-python",
   "name": "python",
   "nbconvert_exporter": "python",
   "pygments_lexer": "ipython3",
   "version": "3.7.0"
  }
 },
 "nbformat": 4,
 "nbformat_minor": 1
}
